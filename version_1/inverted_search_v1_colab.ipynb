{
  "cells": [
    {
      "cell_type": "markdown",
      "metadata": {
        "id": "ByCSu-FhG5v7"
      },
      "source": [
        "# project: index creation and search on small data (1000)- version 1"
      ]
    },
    {
      "cell_type": "markdown",
      "metadata": {
        "id": "J0P4W63JvrT5"
      },
      "source": [
        "# Setup"
      ]
    },
    {
      "cell_type": "code",
      "execution_count": 50,
      "metadata": {
        "colab": {
          "base_uri": "https://localhost:8080/"
        },
        "deletable": false,
        "editable": false,
        "id": "byNgReCYsmA9",
        "nbgrader": {
          "cell_type": "code",
          "checksum": "9a5e34081c68da39370c09ff0ee046f0",
          "grade": false,
          "grade_id": "cell-4bab9532110cc7e3",
          "locked": true,
          "schema_version": 3,
          "solution": false,
          "task": false
        },
        "outputId": "3503b696-461d-42c0-a3d1-f6648be52d06"
      },
      "outputs": [
        {
          "name": "stderr",
          "output_type": "stream",
          "text": [
            "[nltk_data] Downloading package stopwords to /root/nltk_data...\n",
            "[nltk_data]   Package stopwords is already up-to-date!\n"
          ]
        }
      ],
      "source": [
        "import sys\n",
        "from collections import Counter, OrderedDict\n",
        "import itertools\n",
        "from itertools import islice, count, groupby\n",
        "import pandas as pd\n",
        "import os\n",
        "import re\n",
        "from operator import itemgetter\n",
        "import nltk\n",
        "from nltk.stem.porter import *\n",
        "from nltk.corpus import stopwords\n",
        "from time import time\n",
        "from timeit import timeit\n",
        "from pathlib import Path\n",
        "import pickle\n",
        "import pandas as pd\n",
        "import numpy as np\n",
        "from google.cloud import storage\n",
        "\n",
        "import hashlib\n",
        "def _hash(s):\n",
        "    return hashlib.blake2b(bytes(s, encoding='utf8'), digest_size=5).hexdigest()\n",
        "\n",
        "nltk.download('stopwords')\n",
        "\n",
        "from inverted_index_gcp import *"
      ]
    },
    {
      "cell_type": "markdown",
      "metadata": {
        "id": "KRjOVgLBrfCs"
      },
      "source": [
        "## Installing, importing, and initializing PySpark\n"
      ]
    },
    {
      "cell_type": "markdown",
      "metadata": {
        "id": "GORmjMdasns1"
      },
      "source": [
        "The following code installs PySpark and its dependencies in Colab. In addition, we install GraphFrames, which is a PySpark package for dealing with graphs in a distributed fashion. Colab notebooks run on a single machine so we will work in local mode, i.e. there is no cluster of machines and both the master and worker processes run on a single machine. This will help us debug and iron out the code we will use in the second half of this assignment on an actual cluster mode in GCP.\n",
        "\n",
        "The installation in the next cell should take about 1 minute in a fresh environment. Don't worry about going  over the 90 seconds limit for the assignment because in our testing enviroment all of these requirements will already be met."
      ]
    },
    {
      "cell_type": "code",
      "execution_count": 51,
      "metadata": {
        "colab": {
          "base_uri": "https://localhost:8080/"
        },
        "deletable": false,
        "editable": false,
        "id": "kw33QgujFQez",
        "nbgrader": {
          "cell_type": "code",
          "checksum": "da733d0507fb7716a3f432b5d9d409a3",
          "grade": false,
          "grade_id": "cell-3f5100ba2d532176",
          "locked": true,
          "schema_version": 3,
          "solution": false,
          "task": false
        },
        "outputId": "750d4e9c-94cb-48f1-c63a-b8f923022ce3"
      },
      "outputs": [
        {
          "name": "stdout",
          "output_type": "stream",
          "text": [
            "openjdk-8-jdk-headless is already the newest version (8u392-ga-1~22.04).\n",
            "0 upgraded, 0 newly installed, 0 to remove and 35 not upgraded.\n",
            "--2024-02-29 16:08:00--  https://repos.spark-packages.org/graphframes/graphframes/0.8.2-spark3.2-s_2.12/graphframes-0.8.2-spark3.2-s_2.12.jar\n",
            "Resolving repos.spark-packages.org (repos.spark-packages.org)... 18.173.166.39, 18.173.166.6, 18.173.166.12, ...\n",
            "Connecting to repos.spark-packages.org (repos.spark-packages.org)|18.173.166.39|:443... connected.\n",
            "HTTP request sent, awaiting response... 304 Not Modified\n",
            "File ‘/usr/local/lib/python3.8/dist-packages/pyspark/jars/graphframes-0.8.2-spark3.2-s_2.12.jar’ not modified on server. Omitting download.\n",
            "\n"
          ]
        }
      ],
      "source": [
        "# These will already be installed in the testing environment so disregard the\n",
        "# amount of time (~1 minute) it takes to install.\n",
        "!pip install -q pyspark\n",
        "!pip install -U -q PyDrive\n",
        "!apt install openjdk-8-jdk-headless -qq\n",
        "!pip install -q graphframes\n",
        "import os\n",
        "os.environ[\"JAVA_HOME\"] = \"/usr/lib/jvm/java-8-openjdk-amd64\"\n",
        "graphframes_jar = 'https://repos.spark-packages.org/graphframes/graphframes/0.8.2-spark3.2-s_2.12/graphframes-0.8.2-spark3.2-s_2.12.jar'\n",
        "spark_jars = '/usr/local/lib/python3.8/dist-packages/pyspark/jars'\n",
        "!wget -N -P $spark_jars $graphframes_jar"
      ]
    },
    {
      "cell_type": "code",
      "execution_count": 52,
      "metadata": {
        "deletable": false,
        "editable": false,
        "id": "BkEErqJnsXyy",
        "nbgrader": {
          "cell_type": "code",
          "checksum": "032f9e425c679e50c3f5c4ea0c8c1a0d",
          "grade": false,
          "grade_id": "cell-eb29d235a981ccf1",
          "locked": true,
          "schema_version": 3,
          "solution": false,
          "task": false
        }
      },
      "outputs": [],
      "source": [
        "import pyspark\n",
        "from pyspark.sql import *\n",
        "from pyspark.sql.functions import *\n",
        "from pyspark import SparkContext, SparkConf\n",
        "from pyspark.sql import SQLContext\n",
        "from pyspark.ml.feature import Tokenizer, RegexTokenizer\n",
        "from graphframes import *"
      ]
    },
    {
      "cell_type": "code",
      "execution_count": null,
      "metadata": {
        "colab": {
          "base_uri": "https://localhost:8080/",
          "height": 235
        },
        "deletable": false,
        "editable": false,
        "id": "OgiSewKAsgKd",
        "nbgrader": {
          "cell_type": "code",
          "checksum": "0f56ab8938f3ab2ff990137191848d04",
          "grade": false,
          "grade_id": "cell-3abe6255693138cc",
          "locked": true,
          "schema_version": 3,
          "solution": false,
          "task": false
        },
        "outputId": "31b8386b-30f8-42e9-f696-2a3cc4cf0367"
      },
      "outputs": [],
      "source": [
        "# Initializing spark context\n",
        "# create a spark context and session\n",
        "conf = SparkConf().set(\"spark.ui.port\", \"4050\")\n",
        "conf.set(\"spark.jars.packages\", \"graphframes:graphframes:0.8.2-spark3.2-s_2.12\")\n",
        "sc = pyspark.SparkContext(conf=conf)\n",
        "sc.addPyFile(str(Path(spark_jars) / Path(graphframes_jar).name))\n",
        "spark = SparkSession.builder.getOrCreate()"
      ]
    },
    {
      "cell_type": "markdown",
      "metadata": {
        "id": "A9fjw2J-s87v"
      },
      "source": [
        "You can easily check the current version and get the link of the web interface. In the Spark UI, you can monitor the progress of your job and debug the performance bottlenecks (if your Colab is running with a **local runtime**)."
      ]
    },
    {
      "cell_type": "code",
      "execution_count": null,
      "metadata": {
        "id": "PUyhQAlBs8qL"
      },
      "outputs": [],
      "source": [
        "spark"
      ]
    },
    {
      "cell_type": "markdown",
      "metadata": {
        "id": "19EG5AvVru1J"
      },
      "source": [
        "## Copy some wiki data"
      ]
    },
    {
      "cell_type": "markdown",
      "metadata": {
        "id": "ofyAoTHttjHE"
      },
      "source": [
        "As mentioned above, all wiki dumps were preprocessed and placed in a shared google storage bucket. To access the files in Colab, you will first have to authenticate with google storage, and then copy the data to your local environment.\n",
        "\n",
        "**IMPORTANT NOTE**\n",
        "\n",
        "Before you start working with the wiki data, you first have to go over the\n",
        "\"Working with GCP.pdf\" Provided to you under the gcp folder in the same zip file as this folder. In that pdf you will redeem your credits for the GCP and create your instance. You have to do this procedure because the files will be mounted to you through GCP process.\n",
        "Notice that you have to change the project_id variable in the second cell below.\n",
        "\n",
        "In GCP, the storage will already be mounted on the cluster machines and we will show you how to access it.\n"
      ]
    },
    {
      "cell_type": "code",
      "execution_count": null,
      "metadata": {
        "deletable": false,
        "editable": false,
        "id": "DkdjBm5DOVWX",
        "nbgrader": {
          "cell_type": "code",
          "checksum": "6eb03b7c8aae3df806c857c7f309b306",
          "grade": false,
          "grade_id": "cell-e21b8fff61e90a95",
          "locked": true,
          "schema_version": 3,
          "solution": false,
          "task": false
        }
      },
      "outputs": [],
      "source": [
        "# Authenticate your user\n",
        "# The authentication should be done with the email connected to your GCP account\n",
        "from google.colab import auth\n",
        "import signal\n",
        "\n",
        "AUTH_TIMEOUT = 300000\n",
        "\n",
        "def handler(signum, frame):\n",
        "  raise Exception(\"Authentication timeout!\")\n",
        "\n",
        "signal.signal(signal.SIGALRM, handler)\n",
        "signal.alarm(AUTH_TIMEOUT)\n",
        "\n",
        "try:\n",
        "   auth.authenticate_user()\n",
        "except:\n",
        "   pass"
      ]
    },
    {
      "cell_type": "code",
      "execution_count": null,
      "metadata": {
        "deletable": false,
        "editable": false,
        "id": "vDuikxFbN9B7",
        "nbgrader": {
          "cell_type": "code",
          "checksum": "862688e2c720977cb14caa4309c593c5",
          "grade": false,
          "grade_id": "cell-e19184d540ed3d67",
          "locked": true,
          "schema_version": 3,
          "solution": false,
          "task": false
        }
      },
      "outputs": [],
      "source": [
        "# Copy one wikidumps files\n",
        "import os\n",
        "from pathlib import Path\n",
        "from google.colab import auth\n",
        "## RENAME the project_id to yours project id from the project you created in GCP\n",
        "project_id = 'mapreducepagerank'\n",
        "!gcloud config set project {project_id}\n",
        "\n",
        "data_bucket_name = 'wikidata20210801_preprocessed'\n",
        "try:\n",
        "    if os.environ[\"wikidata_preprocessed\"] is not None:\n",
        "        pass\n",
        "except:\n",
        "      !mkdir wikidumps\n",
        "      !gsutil -u {project_id} cp gs://{data_bucket_name}/multistream1_preprocessed.parquet \"wikidumps/\"\n"
      ]
    },
    {
      "cell_type": "markdown",
      "metadata": {
        "id": "_GU4djg6yizh"
      },
      "source": [
        "# Processing wikipedia"
      ]
    },
    {
      "cell_type": "markdown",
      "metadata": {
        "id": "5aQwbFGxPb4D"
      },
      "source": [
        "Let's look at our data before transforming it to RDD."
      ]
    },
    {
      "cell_type": "code",
      "execution_count": null,
      "metadata": {
        "id": "nmMTFnPaaqRQ"
      },
      "outputs": [],
      "source": [
        "from pathlib import Path\n",
        "import os\n",
        "\n",
        "try:\n",
        "    if os.environ[\"wikidata_preprocessed\"] is not None:\n",
        "      path = os.environ[\"wikidata_preprocessed\"]+\"/wikidumps/*\"\n",
        "except:\n",
        "      path = \"wikidumps/*\"\n",
        "\n",
        "parquetFile = spark.read.parquet(path)"
      ]
    },
    {
      "cell_type": "code",
      "execution_count": null,
      "metadata": {
        "colab": {
          "base_uri": "https://localhost:8080/"
        },
        "deletable": false,
        "editable": false,
        "id": "KMcsrc8RO9kn",
        "nbgrader": {
          "cell_type": "code",
          "checksum": "9f6dbcc85fde698083cc613e0cc1aaef",
          "grade": false,
          "grade_id": "cell-59e4fe49688570ce",
          "locked": true,
          "schema_version": 3,
          "solution": false,
          "task": false
        },
        "outputId": "b4c4c9a6-4882-41e5-dc3b-9eaff3d26e36"
      },
      "outputs": [],
      "source": [
        "# take the 'text' and 'id' or the first 1000 rows and create an RDD from it\n",
        "doc_text_pairs = parquetFile.limit(1000).select(\"text\", \"id\").rdd\n",
        "print(doc_text_pairs.take(1))"
      ]
    },
    {
      "cell_type": "code",
      "execution_count": null,
      "metadata": {
        "deletable": false,
        "id": "MvZDJk0bu9V9",
        "nbgrader": {
          "cell_type": "code",
          "checksum": "a3aaab30238939a14be6a58056ed3000",
          "grade": false,
          "grade_id": "cell-e85a52ed1c96897a",
          "locked": false,
          "schema_version": 3,
          "solution": true,
          "task": false
        }
      },
      "outputs": [],
      "source": [
        "NUM_BUCKETS = 124\n",
        "def token2bucket_id(token):\n",
        "  return int(_hash(token),16) % NUM_BUCKETS\n",
        "bucket_name = \"bucket-mr-project-ir-david\"\n",
        "base_dir = \"base_dir\"\n",
        "\n",
        "english_stopwords = frozenset(stopwords.words('english'))\n",
        "corpus_stopwords = [\"category\", \"references\", \"also\", \"external\", \"links\",\n",
        "                    \"may\", \"first\", \"see\", \"history\", \"people\", \"one\", \"two\",\n",
        "                    \"part\", \"thumb\", \"including\", \"second\", \"following\",\n",
        "                    \"many\", \"however\", \"would\", \"became\"]\n",
        "\n",
        "all_stopwords = english_stopwords.union(corpus_stopwords)\n",
        "RE_WORD = re.compile(r\"\"\"[\\#\\@\\w](['\\-]?\\w){2,24}\"\"\", re.UNICODE)\n",
        "\n",
        "NUM_BUCKETS = 124\n",
        "def token2bucket_id(token):\n",
        "  return int(_hash(token),16) % NUM_BUCKETS\n",
        "\n",
        "# PLACE YOUR CODE HERE\n",
        "\n",
        "def word_count(text, id):\n",
        "  ''' Count the frequency of each word in `text` (tf) that is not included in\n",
        "  `all_stopwords` and return entries that will go into our posting lists.\n",
        "  Parameters:\n",
        "  -----------\n",
        "    text: str\n",
        "      Text of one document\n",
        "    id: int\n",
        "      Document id\n",
        "  Returns:\n",
        "  --------\n",
        "    List of tuples\n",
        "      A list of (token, (doc_id, tf)) pairs\n",
        "      for example: [(\"Anarchism\", (12, 5)), ...]\n",
        "  '''\n",
        "  tokens = [token.group() for token in RE_WORD.finditer(text.lower())]\n",
        "  len_of_doc = len(tokens)\n",
        "  # YOUR CODE HERE\n",
        "  word_counts = Counter(tokens)\n",
        "    # Filter out stopwords and create tuples of (token, (doc_id, tf))\n",
        "  result = [(token, (id, tf)) for token, tf in word_counts.items() if token not in all_stopwords]\n",
        "  return result\n",
        "\n",
        "def doc_len(text, id):\n",
        "  tokens = [token.group() for token in RE_WORD.finditer(text.lower())]# should i remove stop word???\n",
        "  return id,len(tokens)\n",
        "def reduce_word_counts(unsorted_pl):\n",
        "  ''' Returns a sorted posting list by wiki_id.\n",
        "  Parameters:\n",
        "  -----------\n",
        "    unsorted_pl: list of tuples\n",
        "      A list of (wiki_id, tf) tuples\n",
        "  Returns:\n",
        "  --------\n",
        "    list of tuples\n",
        "      A sorted posting list.\n",
        "  '''\n",
        "  # YOUR CODE HERE\n",
        "  # Sort the posting list by wiki_id\n",
        "  sorted_pl = sorted(unsorted_pl, key=lambda x: x[0])\n",
        "  return sorted_pl\n",
        "\n",
        "def calculate_df(postings):\n",
        "  ''' Takes a posting list RDD and calculate the df for each token.\n",
        "  Parameters:\n",
        "  -----------\n",
        "    postings: RDD\n",
        "      An RDD where each element is a (token, posting_list) pair.\n",
        "  Returns:\n",
        "  --------\n",
        "    RDD\n",
        "      An RDD where each element is a (token, df) pair.\n",
        "  '''\n",
        "  # YOUR CODE HERE\n",
        "  # Calculate the length of each posting list for each token\n",
        "  token_document_counts = postings.map(lambda x: (x[0], len(x[1])))\n",
        "\n",
        "  return token_document_counts\n",
        "\n",
        "def partition_postings_and_write(postings):\n",
        "  ''' A function that partitions the posting lists into buckets, writes out\n",
        "  all posting lists in a bucket to disk, and returns the posting locations for\n",
        "  each bucket. Partitioning should be done through the use of `token2bucket`\n",
        "  above. Writing to disk should use the function  `write_a_posting_list`, a\n",
        "  static method implemented in inverted_index_colab.py under the InvertedIndex\n",
        "  class.\n",
        "  Parameters:\n",
        "  -----------\n",
        "    postings: RDD\n",
        "      An RDD where each item is a (w, posting_list) pair.\n",
        "  Returns:\n",
        "  --------\n",
        "    RDD\n",
        "      An RDD where each item is a posting locations dictionary for a bucket. The\n",
        "      posting locations maintain a list for each word of file locations and\n",
        "      offsets its posting list was written to. See `write_a_posting_list` for\n",
        "      more details.\n",
        "  '''\n",
        "  # YOUR CODE HERE\n",
        "  def write_partition_to_disk(partition):\n",
        "        ''' Writes a partition of posting lists to disk and returns the posting\n",
        "        locations for each word in the partition.\n",
        "        Parameters:\n",
        "        -----------\n",
        "            partition: iterator\n",
        "                An iterator of (bucket_id, posting_lists) tuples.\n",
        "        Returns:\n",
        "        --------\n",
        "            tuple\n",
        "                A tuple containing the bucket ID and the posting locations dictionary\n",
        "                for the partition.\n",
        "        '''\n",
        "        bucket_id, posting_lists = partition\n",
        "        bucket_id , posting_locs = InvertedIndex.write_a_posting_list((bucket_id, posting_lists),base_dir,bucket_name)\n",
        "        return posting_locs\n",
        "  # Partition the posting lists into buckets\n",
        "  bucketed_postings = postings.map(lambda x: (token2bucket_id(x[0]), [x])) \\\n",
        "                               .reduceByKey(lambda a, b: a + b)\n",
        "\n",
        "    # Write out each bucket to disk and collect the posting locations\n",
        "  posting_locations = bucketed_postings.map(write_partition_to_disk)\n",
        "\n",
        "  return posting_locations\n",
        "\n",
        "\n"
      ]
    },
    {
      "cell_type": "markdown",
      "metadata": {},
      "source": [
        "creating the small index"
      ]
    },
    {
      "cell_type": "code",
      "execution_count": null,
      "metadata": {
        "id": "QBZJ2PyCKfiF"
      },
      "outputs": [],
      "source": [
        "#create dict for len of docs\n",
        "dict_len_docs_rdd = doc_text_pairs.map(lambda x: doc_len(x[0], x[1]))\n",
        "\n",
        "# Collect the RDD as a dictionary\n",
        "dict_len_docs = dict_len_docs_rdd.collectAsMap()\n",
        "# word counts map\n",
        "word_counts = doc_text_pairs.flatMap(lambda x: word_count(x[0], x[1]))\n",
        "postings = word_counts.groupByKey().mapValues(reduce_word_counts)\n",
        "# filtering postings and calculate df\n",
        "postings_filtered = postings.filter(lambda x: len(x[1])>15)\n",
        "w2df = calculate_df(postings_filtered)\n",
        "\n",
        "w2df_dict = w2df.collectAsMap()\n",
        "# partition posting lists and write out\n",
        "posting_locs_list = partition_postings_and_write(postings_filtered).collect()\n",
        "\n",
        "\n",
        "# collect all posting lists locations into one super-set\n",
        "super_posting_locs = defaultdict(list)\n",
        "for posting_loc in posting_locs_list:\n",
        "  for k, v in posting_loc.items():\n",
        "    super_posting_locs[k].extend(v)\n",
        "\n",
        "\n",
        "\n",
        "\n",
        "# Create inverted index instance\n",
        "inverted = InvertedIndex()\n",
        "# Adding the posting locations dictionary to the inverted index\n",
        "inverted.posting_locs = super_posting_locs\n",
        "# Add the token - df dictionary to the inverted index\n",
        "inverted.df = w2df_dict\n",
        "inverted.document_len = dict_len_docs\n",
        "# write the global stats out\n",
        "inverted.write_index(base_dir, 'inverted_index_small',bucket_name)\n",
        "# # upload to gs\n",
        "# index_src = \"index.pkl\"\n",
        "# index_dst = f'gs://{bucket_name}/postings_gcp/{index_src}'\n",
        "# !gsutil cp $index_src $index_dst"
      ]
    },
    {
      "cell_type": "code",
      "execution_count": null,
      "metadata": {
        "id": "03ZI57hrKFPZ"
      },
      "outputs": [],
      "source": [
        "# load_from_bucket\n",
        "# get textIndex.pkl from bucket\n",
        "from google.cloud import storage\n",
        "import pickle\n",
        "bucket_name = 'bucket-mr-project-ir-david'\n",
        "file_path = \"base_dir/inverted_index_small.pkl\"\n",
        "storage_client = storage.Client()\n",
        "bucket = storage_client.bucket(bucket_name)\n",
        "blob = bucket.blob(file_path)\n",
        "contents = blob.download_as_bytes()\n",
        "inverted = pickle.loads(contents)"
      ]
    },
    {
      "cell_type": "markdown",
      "metadata": {},
      "source": [
        "search func and vectors\n"
      ]
    },
    {
      "cell_type": "code",
      "execution_count": null,
      "metadata": {
        "id": "0gYD_D-mzJMh"
      },
      "outputs": [],
      "source": [
        "import numpy as np\n",
        "import nltk\n",
        "from nltk.corpus import stopwords\n",
        "from nltk.tokenize import word_tokenize\n",
        "from nltk.stem import PorterStemmer\n",
        "import string\n",
        "\n",
        "def preprocess_query(query):\n",
        "    # Download NLTK resources if not already downloaded //make sure documents are preprocess in the same way\n",
        "    nltk.download('punkt')\n",
        "    nltk.download('stopwords')\n",
        "    english_stopwords = frozenset(stopwords.words('english'))\n",
        "    corpus_stopwords = [\"category\", \"references\", \"also\", \"external\", \"links\",\n",
        "                    \"may\", \"first\", \"see\", \"history\", \"people\", \"one\", \"two\",\n",
        "                    \"part\", \"thumb\", \"including\", \"second\", \"following\",\n",
        "                    \"many\", \"however\", \"would\", \"became\"]\n",
        "\n",
        "    all_stopwords = english_stopwords.union(corpus_stopwords)\n",
        "    # Initialize Porter Stemmer\n",
        "    #stemmer = PorterStemmer()\n",
        "\n",
        "    # Tokenize the query\n",
        "    tokens = word_tokenize(query)\n",
        "\n",
        "    # Remove punctuation\n",
        "    tokens = [token for token in tokens if token not in string.punctuation]\n",
        "\n",
        "    # Remove stop words\n",
        "    stop_words = set(stopwords.words('english'))\n",
        "    filtered_tokens = [token for token in tokens if token.lower() not in all_stopwords]\n",
        "\n",
        "    # Stemming\n",
        "    #stemmed_tokens = [stemmer.stem(token) for token in filtered_tokens]\n",
        "\n",
        "    # Perform additional preprocessing if needed\n",
        "\n",
        "    return filtered_tokens\n",
        "\n",
        "# def vectorize_query(query, inverted_index):\n",
        "#     # Preprocess the query\n",
        "#     preprocessed_query = preprocess_query(query)\n",
        "\n",
        "\n",
        "#     # Initialize a vector for the query\n",
        "#     query_vector = np.zeros(len(inverted_index.posting_locs))# to do:create vector in size of the query\n",
        "\n",
        "#     # Calculate TF-IDF for the query terms\n",
        "#     for term in preprocessed_query:\n",
        "\n",
        "#         if term in inverted_index.posting_locs:\n",
        "#             # Calculate TF (term frequency) for the query term\n",
        "\n",
        "#             index = inverted.dictIndexTerm[term]\n",
        "#             tf = preprocessed_query.count(term)/len(preprocessed_query)\n",
        "\n",
        "#             # Calculate TF-IDF score for the query term\n",
        "#             tf_idf = tf * 1\n",
        "\n",
        "#             # Assign TF-IDF score to the corresponding dimension in the query vector\n",
        "#             query_vector[index] = tf_idf\n",
        "\n",
        "#     return query_vector\n",
        "def vectorize_query(query, inverted_index):\n",
        "    # Preprocess the query\n",
        "    preprocessed_query = preprocess_query(query)\n",
        "\n",
        "    dict_tokens_unq = Counter(preprocessed_query)\n",
        "    # Initialize a vector for the query\n",
        "    query_vector = np.zeros(len(dict_tokens_unq))# to do:create vector in size of the query\n",
        "    counter = 0\n",
        "    # Calculate TF-IDF for the query terms\n",
        "    for term, freq in dict_tokens_unq.items():\n",
        "\n",
        "        if inverted_index.posting_locs.get(term) is not None:\n",
        "            # Calculate TF (term frequency) for the query term\n",
        "\n",
        "            tf = freq/len(preprocessed_query)\n",
        "\n",
        "            # Calculate TF-IDF score for the query term\n",
        "            tf_idf = tf * 1\n",
        "\n",
        "            # Assign TF-IDF score to the corresponding dimension in the query vector\n",
        "            query_vector[counter] = tf_idf\n",
        "            counter += 1\n",
        "    return query_vector\n",
        "\n",
        "\n",
        "def vectorize_documents(inverted_index,query_tokens_unq):\n",
        "    # Initialize a dictionary to store document vectors\n",
        "    document_vectors = {}\n",
        "\n",
        "\n",
        "\n",
        "    counter = 0\n",
        "    # Calculate TF-IDF for each document\n",
        "    for term in query_tokens_unq:\n",
        "        #if term not in inverted.df.keys()\n",
        "        if inverted_index.df.get(term) is None:\n",
        "          counter += 1\n",
        "          continue\n",
        "        # posting_list = inverted.read_a_posting_list(base_dir, term, bucket_name)\n",
        "        posting_list = inverted.read_a_posting_list(\"\",term, bucket_name)\n",
        "        num_of_docs = len(inverted_index.document_len.items())\n",
        "        print(str(num_of_docs)+\"num_of_docs\")\n",
        "        df_of_term = inverted_index.df[term]\n",
        "        idf = np.log(num_of_docs/df_of_term)  # Adding 1 to avoid division by zero\n",
        "        print(idf)\n",
        "        for doc_id, tf in posting_list:\n",
        "            tf = tf / (inverted.document_len[doc_id])#remove 0.1\n",
        "            # Calculate TF-IDF score for the term in the document\n",
        "            tf_idf = tf * idf\n",
        "\n",
        "            # If the document vector already exists, update it\n",
        "            if doc_id in document_vectors:\n",
        "                document_vectors[doc_id][counter] = tf_idf\n",
        "            # Otherwise, create a new document vector\n",
        "            else:\n",
        "                document_vector = np.zeros(len(query_tokens_unq))\n",
        "                document_vectors[doc_id] = document_vector\n",
        "                document_vectors[doc_id][counter] = tf_idf\n",
        "        counter += 1\n",
        "    return document_vectors\n",
        "def cosine_similarity(v1, v2):\n",
        "    \"\"\"Compute cosine similarity between two vectors.\"\"\"\n",
        "    dot_product = np.dot(v1, v2)\n",
        "    norm_v1 = np.linalg.norm(v1)\n",
        "    norm_v2 = np.linalg.norm(v2)\n",
        "    return dot_product / (norm_v1 * norm_v2)\n",
        "\n",
        "def search(query, inverted_index, doc_titles = None, k=10):\n",
        "    \"\"\"Search for documents based on a query using cosine similarity.\"\"\"\n",
        "    # Preprocess query (e.g., tokenize, remove stop words, etc.)\n",
        "    # Vectorize the query\n",
        "\n",
        "    query_vector = vectorize_query(query,inverted)\n",
        "    processed_query = preprocess_query(query)\n",
        "    list_tokens_unq = list(Counter(processed_query).keys())\n",
        "    vectorize_documents_res = vectorize_documents(inverted,list_tokens_unq)\n",
        "\n",
        "    print(\"Vectors of the first 10 documents:\")\n",
        "    for doc_id, doc_vector in islice(vectorize_documents_res.items(), 10):\n",
        "        print(f\"Document ID: {doc_id}, Vector: {doc_vector}\")\n",
        "\n",
        "\n",
        "    # Compute cosine similarity between the query vector and all document vectors\n",
        "    similarities = {}\n",
        "    for doc_id, doc_vector in vectorize_documents_res.items():\n",
        "        similarities[doc_id] = cosine_similarity(query_vector, doc_vector)\n",
        "\n",
        "    # Sort documents by similarity and return the top k results\n",
        "    top_results = sorted(similarities.items(), key=lambda x: x[1], reverse=True)[:k]\n",
        "\n",
        "    # Retrieve titles for the top results\n",
        "    #results_with_titles = [(doc_id, doc_titles[doc_id]) for doc_id, _ in top_results]\n",
        "    #results_with_titles = [(doc_id, doc_titles[doc_id]) for doc_id, _ in top_results]\n",
        "    return top_results\n",
        "\n"
      ]
    },
    {
      "cell_type": "code",
      "execution_count": null,
      "metadata": {
        "colab": {
          "base_uri": "https://localhost:8080/"
        },
        "id": "B7wDk9IdFvLi",
        "outputId": "faf61ea3-49d9-440f-9f37-7c42a14533b5"
      },
      "outputs": [
        {
          "name": "stdout",
          "output_type": "stream",
          "text": [
            "[(12, 5848), (25, 5811), (39, 2517), (290, 1430), (303, 10948), (305, 6225), (307, 11284), (308, 8763), (309, 1408), (316, 5427)]\n",
            "['jewish', 'singer']\n",
            "[0.5 0.5]\n"
          ]
        },
        {
          "name": "stderr",
          "output_type": "stream",
          "text": [
            "[nltk_data] Downloading package punkt to /root/nltk_data...\n",
            "[nltk_data]   Package punkt is already up-to-date!\n",
            "[nltk_data] Downloading package stopwords to /root/nltk_data...\n",
            "[nltk_data]   Package stopwords is already up-to-date!\n",
            "[nltk_data] Downloading package punkt to /root/nltk_data...\n",
            "[nltk_data]   Package punkt is already up-to-date!\n",
            "[nltk_data] Downloading package stopwords to /root/nltk_data...\n",
            "[nltk_data]   Package stopwords is already up-to-date!\n",
            "[nltk_data] Downloading package punkt to /root/nltk_data...\n",
            "[nltk_data]   Package punkt is already up-to-date!\n",
            "[nltk_data] Downloading package stopwords to /root/nltk_data...\n",
            "[nltk_data]   Package stopwords is already up-to-date!\n",
            "[nltk_data] Downloading package punkt to /root/nltk_data...\n",
            "[nltk_data]   Package punkt is already up-to-date!\n",
            "[nltk_data] Downloading package stopwords to /root/nltk_data...\n",
            "[nltk_data]   Package stopwords is already up-to-date!\n"
          ]
        },
        {
          "name": "stdout",
          "output_type": "stream",
          "text": [
            "1000num_of_docs\n",
            "2.1286317858706076\n",
            "1000num_of_docs\n",
            "2.120263536200091\n",
            "Vectors of the first 10 documents:\n",
            "Document ID: 303, Vector: [0.00077772 0.        ]\n",
            "Document ID: 339, Vector: [0.00278071 0.        ]\n",
            "Document ID: 573, Vector: [0.00030975 0.        ]\n",
            "Document ID: 599, Vector: [0.00051766 0.        ]\n",
            "Document ID: 624, Vector: [0.00043327 0.00021578]\n",
            "Document ID: 628, Vector: [0.00061646 0.        ]\n",
            "Document ID: 678, Vector: [0.01051176 0.        ]\n",
            "Document ID: 689, Vector: [0.00067543 0.        ]\n",
            "Document ID: 700, Vector: [0.00019321 0.        ]\n",
            "Document ID: 717, Vector: [0.00024671 0.        ]\n",
            "[(984, 0.9999980605171862), (2382, 0.9999980605171861), (738, 0.999998060517186), (1438, 0.9802227868442028), (1688, 0.9491809580183561), (2195, 0.9491809580183561), (2185, 0.9481844604998539), (1216, 0.9481844604998538), (2406, 0.9481844604998538), (624, 0.9481844604998537)]\n"
          ]
        }
      ],
      "source": [
        "# @title Default title text\n",
        "#test\n",
        "first_10_items = list(inverted.document_len.items())[:10]\n",
        "\n",
        "# Print the first 10 items\n",
        "print(first_10_items)\n",
        "\n",
        "query = \"jewish singer\"\n",
        "proces_query = preprocess_query(query)\n",
        "print(proces_query)\n",
        "query_vector = vectorize_query(query,inverted)\n",
        "print(query_vector)\n",
        "print(search(query,inverted))\n",
        "\n"
      ]
    }
  ],
  "metadata": {
    "colab": {
      "collapsed_sections": [
        "-zUibXvjWb6Q",
        "3LiIJMOjWnsB"
      ],
      "provenance": []
    },
    "kernelspec": {
      "display_name": "Python 3",
      "language": "python",
      "name": "python3"
    },
    "language_info": {
      "codemirror_mode": {
        "name": "ipython",
        "version": 3
      },
      "file_extension": ".py",
      "mimetype": "text/x-python",
      "name": "python",
      "nbconvert_exporter": "python",
      "pygments_lexer": "ipython3",
      "version": "3.7.6"
    }
  },
  "nbformat": 4,
  "nbformat_minor": 0
}
