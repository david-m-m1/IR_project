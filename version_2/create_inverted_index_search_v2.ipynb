{
  "cells": [
    {
      "cell_type": "markdown",
      "id": "a00e032c",
      "metadata": {
        "id": "a00e032c"
      },
      "source": [
        "This is vertion 2 of our work, changes we made:\n",
        "\n",
        "1)we created index on 1 mil pages, and the all the terms from the jason file\n",
        "\n",
        "2)we fixed many bugs and made the search work proprely\n",
        "\n",
        "3)added another serach function using MB25 didnt test it yet.\n",
        "\n",
        "4)learned how to read the and write to/from the bucket\n",
        "\n",
        "5)did not run colab fronted yet, but results from 1 mil seems to not be in the final answer."
      ]
    },
    {
      "cell_type": "code",
      "execution_count": null,
      "id": "5ac36d3a",
      "metadata": {
        "colab": {
          "base_uri": "https://localhost:8080/"
        },
        "id": "5ac36d3a",
        "nbgrader": {
          "grade": false,
          "grade_id": "cell-Worker_Count",
          "locked": true,
          "schema_version": 3,
          "solution": false,
          "task": false
        },
        "outputId": "523f23f9-563e-4406-f539-698003569bd3"
      },
      "outputs": [
        {
          "name": "stdout",
          "output_type": "stream",
          "text": [
            "NAME          PLATFORM  PRIMARY_WORKER_COUNT  SECONDARY_WORKER_COUNT  STATUS   ZONE           SCHEDULED_DELETE\r\n",
            "cluster-9ce1  GCE       4                                             RUNNING  us-central1-a\r\n"
          ]
        }
      ],
      "source": [
        "# if the following command generates an error, you probably didn't enable\n",
        "# the cluster security option \"Allow API access to all Google Cloud services\"\n",
        "# under Manage Security → Project Access when setting up the cluster\n",
        "!gcloud dataproc clusters list --region us-central1"
      ]
    },
    {
      "cell_type": "markdown",
      "id": "51cf86c5",
      "metadata": {
        "id": "51cf86c5"
      },
      "source": [
        "# Imports & Setup"
      ]
    },
    {
      "cell_type": "code",
      "execution_count": null,
      "id": "bf199e6a",
      "metadata": {
        "colab": {
          "base_uri": "https://localhost:8080/"
        },
        "id": "bf199e6a",
        "nbgrader": {
          "grade": false,
          "grade_id": "cell-Setup",
          "locked": true,
          "schema_version": 3,
          "solution": false,
          "task": false
        },
        "outputId": "56112150-68d3-4e80-d803-fe7403b7a47f"
      },
      "outputs": [
        {
          "name": "stdout",
          "output_type": "stream",
          "text": [
            "\u001b[?25l     \u001b[90m━━━━━━━━━━━━━━━━━━━━━━━━━━━━━━━━━━━━━━━━\u001b[0m \u001b[32m0.0/106.6 kB\u001b[0m \u001b[31m?\u001b[0m eta \u001b[36m-:--:--\u001b[0m\r\u001b[2K     \u001b[90m━━━━━━━━━━━━━━━━━━━━━━━━━━━━━━━━━━━━━━━━\u001b[0m \u001b[32m106.6/106.6 kB\u001b[0m \u001b[31m3.3 MB/s\u001b[0m eta \u001b[36m0:00:00\u001b[0m\n",
            "\u001b[?25h\u001b[31mERROR: pip's dependency resolver does not currently take into account all the packages that are installed. This behaviour is the source of the following dependency conflicts.\n",
            "bigframes 0.21.0 requires google-cloud-storage>=2.0.0, but you have google-cloud-storage 1.43.0 which is incompatible.\u001b[0m\u001b[31m\n",
            "\u001b[2K     \u001b[90m━━━━━━━━━━━━━━━━━━━━━━━━━━━━━━━━━━━━━━━━\u001b[0m \u001b[32m154.7/154.7 kB\u001b[0m \u001b[31m5.3 MB/s\u001b[0m eta \u001b[36m0:00:00\u001b[0m\n",
            "\u001b[?25h"
          ]
        }
      ],
      "source": [
        "!pip install -q google-cloud-storage==1.43.0\n",
        "!pip install -q graphframes"
      ]
    },
    {
      "cell_type": "code",
      "execution_count": null,
      "id": "d8f56ecd",
      "metadata": {
        "colab": {
          "base_uri": "https://localhost:8080/",
          "height": 400
        },
        "id": "d8f56ecd",
        "nbgrader": {
          "grade": false,
          "grade_id": "cell-Imports",
          "locked": true,
          "schema_version": 3,
          "solution": false,
          "task": false
        },
        "outputId": "4111c295-e139-4a46-ed71-7a2d8f6edd23"
      },
      "outputs": [],
      "source": [
        "import pyspark\n",
        "import sys\n",
        "from collections import Counter, OrderedDict, defaultdict\n",
        "import itertools\n",
        "from itertools import islice, count, groupby\n",
        "import pandas as pd\n",
        "import os\n",
        "import re\n",
        "from operator import itemgetter\n",
        "import nltk\n",
        "from nltk.stem.porter import *\n",
        "from nltk.corpus import stopwords\n",
        "from time import time\n",
        "from pathlib import Path\n",
        "import pickle\n",
        "import pandas as pd\n",
        "from google.cloud import storage\n",
        "\n",
        "import hashlib\n",
        "def _hash(s):\n",
        "    return hashlib.blake2b(bytes(s, encoding='utf8'), digest_size=5).hexdigest()\n",
        "\n",
        "nltk.download('stopwords')"
      ]
    },
    {
      "cell_type": "code",
      "execution_count": null,
      "id": "38a897f2",
      "metadata": {
        "id": "38a897f2",
        "nbgrader": {
          "grade": false,
          "grade_id": "cell-jar",
          "locked": true,
          "schema_version": 3,
          "solution": false,
          "task": false
        },
        "outputId": "8f93a7ec-71e0-49c1-fc81-9af385849a90"
      },
      "outputs": [
        {
          "name": "stdout",
          "output_type": "stream",
          "text": [
            "-rw-r--r-- 1 root root 247882 Mar  2 20:28 /usr/lib/spark/jars/graphframes-0.8.2-spark3.1-s_2.12.jar\r\n"
          ]
        }
      ],
      "source": [
        "# if nothing prints here you forgot to include the initialization script when starting the cluster\n",
        "!ls -l /usr/lib/spark/jars/graph*"
      ]
    },
    {
      "cell_type": "code",
      "execution_count": null,
      "id": "47900073",
      "metadata": {
        "id": "47900073",
        "nbgrader": {
          "grade": false,
          "grade_id": "cell-pyspark-import",
          "locked": true,
          "schema_version": 3,
          "solution": false,
          "task": false
        }
      },
      "outputs": [],
      "source": [
        "from pyspark.sql import *\n",
        "from pyspark.sql.functions import *\n",
        "from pyspark import SparkContext, SparkConf, SparkFiles\n",
        "from pyspark.sql import SQLContext\n",
        "from graphframes import *"
      ]
    },
    {
      "cell_type": "code",
      "execution_count": null,
      "id": "72bed56b",
      "metadata": {
        "id": "72bed56b",
        "nbgrader": {
          "grade": false,
          "grade_id": "cell-spark-version",
          "locked": true,
          "schema_version": 3,
          "solution": false,
          "task": false
        },
        "outputId": "07b4e22b-a252-42fb-fe46-d9050e4e7ca8",
        "scrolled": true
      },
      "outputs": [
        {
          "data": {
            "text/html": [
              "\n",
              "            <div>\n",
              "                <p><b>SparkSession - hive</b></p>\n",
              "                \n",
              "        <div>\n",
              "            <p><b>SparkContext</b></p>\n",
              "\n",
              "            <p><a href=\"http://cluster-9ce1-m.c.mapreducepagerank.internal:45325\">Spark UI</a></p>\n",
              "\n",
              "            <dl>\n",
              "              <dt>Version</dt>\n",
              "                <dd><code>v3.3.2</code></dd>\n",
              "              <dt>Master</dt>\n",
              "                <dd><code>yarn</code></dd>\n",
              "              <dt>AppName</dt>\n",
              "                <dd><code>PySparkShell</code></dd>\n",
              "            </dl>\n",
              "        </div>\n",
              "        \n",
              "            </div>\n",
              "        "
            ],
            "text/plain": [
              "<pyspark.sql.session.SparkSession at 0x7fc0a6f15840>"
            ]
          },
          "execution_count": 7,
          "metadata": {},
          "output_type": "execute_result"
        }
      ],
      "source": [
        "spark"
      ]
    },
    {
      "cell_type": "code",
      "execution_count": null,
      "id": "980e62a5",
      "metadata": {
        "id": "980e62a5",
        "nbgrader": {
          "grade": false,
          "grade_id": "cell-bucket_name",
          "locked": false,
          "schema_version": 3,
          "solution": true,
          "task": false
        },
        "outputId": "8c259099-58d0-4c1d-d9c4-5d6a897f397a"
      },
      "outputs": [],
      "source": [
        "# Put your bucket name below and make sure you can access it without an error\n",
        "bucket_name = 'bucket-mr-project-ir-david'\n",
        "#full_path = f\"gs://{bucket_name}/wiki_dump/\"\n",
        "full_path = \"gs://bucket-mr-project-ir-david/\"\n",
        "paths=[]\n",
        "\n",
        "client = storage.Client()\n",
        "blobs = client.list_blobs(bucket_name)\n",
        "for b in blobs:\n",
        "    if b.name.startswith('wiki_dump/') and b.name != 'wiki_dump/graphframes.sh' and b.name != 'wiki_dump/':\n",
        "        paths.append(full_path + b.name)\n"
      ]
    },
    {
      "cell_type": "markdown",
      "id": "cac891c2",
      "metadata": {
        "id": "cac891c2"
      },
      "source": [
        "***GCP setup is complete!*** If you got here without any errors you've earned 10 out of the 35 points of this part."
      ]
    },
    {
      "cell_type": "markdown",
      "id": "582c3f5e",
      "metadata": {
        "id": "582c3f5e"
      },
      "source": [
        "# Building an inverted index"
      ]
    },
    {
      "cell_type": "markdown",
      "id": "481f2044",
      "metadata": {
        "id": "481f2044"
      },
      "source": [
        "buliding inverted on 1000000 docs and the terms only from the jason file\n"
      ]
    },
    {
      "cell_type": "markdown",
      "id": "bGM0Eew1yOwz",
      "metadata": {
        "id": "bGM0Eew1yOwz"
      },
      "source": []
    },
    {
      "cell_type": "code",
      "execution_count": null,
      "id": "e4c523e7",
      "metadata": {
        "id": "e4c523e7",
        "outputId": "52054098-6fff-4fa9-b6f3-4dc8db891a16",
        "scrolled": false
      },
      "outputs": [
        {
          "name": "stderr",
          "output_type": "stream",
          "text": [
            "[Stage 4:>                                                          (0 + 1) / 1]\r"
          ]
        },
        {
          "name": "stdout",
          "output_type": "stream",
          "text": [
            "[Row(id=9172811, title='Brian Osborne')]\n"
          ]
        },
        {
          "name": "stderr",
          "output_type": "stream",
          "text": [
            "                                                                                \r"
          ]
        }
      ],
      "source": [
        "# take the 'text' and 'id' or the first 1000 rows and create an RDD from it\n",
        "#remove this later\n",
        "query_tokens = [\"genetics\", \"Who\", \"is\", \"considered\", \"the\", \"Father\", \"of\", \"United\", \"States\", \"economic\", \"When\", \"was\", \"Nations\", \"founded\", \"video\", \"gaming\", \"D\", \"printing\", \"technology\", \"author\", \"bioinformatics\", \"known\", \"for\", \"proposing\", \"heliocentric\", \"model\", \"solar\", \"system\", \"Describe\", \"process\", \"water\", \"erosion\", \"Berlin\", \"Wall\", \"constructed\", \"What\", \"meaning\", \"term\", \"Habeas\", \"Corpus\", \"telecommunications\", \"internet\", \"characteristics\", \"a\", \"chemical\", \"element\", \"structure\", \"plant\", \"cell\", \"painted\", \"Starry\", \"Night\", \"computer\", \"Earth\", \"layers\", \"did\", \"World\", \"War\", \"II\", \"end\", \"Gutenberg\", \"press\", \"invented\", \"medicine\", \"cycle\", \"artificial\", \"intelligence\", \"physics\", \"nanotechnology\", \"Black\", \"Death\", \"pandemic\", \"occur\", \"neuroscience\", \"snowboard\", \"founder\", \"modern\", \"psychology\"]\n",
        "parquetFile = spark.read.parquet(*paths)\n",
        "doc_text_pairs = parquetFile.limit(1000000).select(\"text\", \"id\").rdd\n",
        "doc_title_pairs = parquetFile.limit(1000000).select(\"id\", \"title\").rdd\n",
        "print(doc_title_pairs.take(1))"
      ]
    },
    {
      "cell_type": "markdown",
      "id": "0d7e2971",
      "metadata": {
        "id": "0d7e2971"
      },
      "source": [
        "We will count the number of pages to make sure we are looking at the entire corpus. The number of pages should be more than 6M"
      ]
    },
    {
      "cell_type": "code",
      "execution_count": null,
      "id": "82881fbf",
      "metadata": {
        "id": "82881fbf",
        "outputId": "2e2ff35f-e96d-4797-a9b3-789b47ea2430",
        "scrolled": true
      },
      "outputs": [
        {
          "name": "stderr",
          "output_type": "stream",
          "text": [
            "                                                                                \r"
          ]
        },
        {
          "data": {
            "text/plain": [
              "6348910"
            ]
          },
          "execution_count": 10,
          "metadata": {},
          "output_type": "execute_result"
        }
      ],
      "source": [
        "# Count number of wiki pages\n",
        "parquetFile.count()"
      ]
    },
    {
      "cell_type": "markdown",
      "id": "701811af",
      "metadata": {
        "id": "701811af"
      },
      "source": [
        "Let's import the inverted index module. Note that you need to use the staff-provided version called `inverted_index_gcp.py`, which contains helper functions to writing and reading the posting files similar to the Colab version, but with writing done to a Google Cloud Storage bucket."
      ]
    },
    {
      "cell_type": "code",
      "execution_count": null,
      "id": "121fe102",
      "metadata": {
        "id": "121fe102",
        "outputId": "327fe81b-80f4-4b3a-8894-e74720d92e35"
      },
      "outputs": [
        {
          "name": "stdout",
          "output_type": "stream",
          "text": [
            "inverted_index_gcp.py\r\n"
          ]
        }
      ],
      "source": [
        "# if nothing prints here you forgot to upload the file inverted_index_gcp.py to the home dir\n",
        "%cd -q /home/dataproc\n",
        "!ls inverted_index_gcp.py"
      ]
    },
    {
      "cell_type": "code",
      "execution_count": null,
      "id": "57c101a8",
      "metadata": {
        "id": "57c101a8",
        "scrolled": true
      },
      "outputs": [],
      "source": [
        "# adding our python module to the cluster\n",
        "sc.addFile(\"/home/dataproc/inverted_index_gcp.py\")\n",
        "sys.path.insert(0,SparkFiles.getRootDirectory())"
      ]
    },
    {
      "cell_type": "code",
      "execution_count": null,
      "id": "c259c402",
      "metadata": {
        "id": "c259c402"
      },
      "outputs": [],
      "source": [
        "from inverted_index_gcp import InvertedIndex"
      ]
    },
    {
      "cell_type": "markdown",
      "id": "jkUgBXmEyQ2g",
      "metadata": {
        "id": "jkUgBXmEyQ2g"
      },
      "source": [
        "all the logic"
      ]
    },
    {
      "cell_type": "code",
      "execution_count": null,
      "id": "f3ad8fea",
      "metadata": {
        "id": "f3ad8fea",
        "nbgrader": {
          "grade": false,
          "grade_id": "cell-token2bucket",
          "locked": false,
          "schema_version": 3,
          "solution": true,
          "task": false
        }
      },
      "outputs": [],
      "source": [
        "NUM_BUCKETS = 124\n",
        "def token2bucket_id(token):\n",
        "  return int(_hash(token),16) % NUM_BUCKETS\n",
        "bucket_name = \"bucket-mr-project-ir-david\"\n",
        "base_dir = \"index_text_on_jason\"\n",
        "sum_doc_len = 0\n",
        "\n",
        "english_stopwords = frozenset(stopwords.words('english'))\n",
        "corpus_stopwords = [\"category\", \"references\", \"also\", \"external\", \"links\",\n",
        "                    \"may\", \"first\", \"see\", \"history\", \"people\", \"one\", \"two\",\n",
        "                    \"part\", \"thumb\", \"including\", \"second\", \"following\",\n",
        "                    \"many\", \"however\", \"would\", \"became\"]\n",
        "\n",
        "all_stopwords = english_stopwords.union(corpus_stopwords)\n",
        "RE_WORD = re.compile(r\"\"\"[\\#\\@\\w](['\\-]?\\w){2,24}\"\"\", re.UNICODE)\n",
        "\n",
        "NUM_BUCKETS = 124\n",
        "def token2bucket_id(token):\n",
        "  return int(_hash(token),16) % NUM_BUCKETS\n",
        "\n",
        "# PLACE YOUR CODE HERE\n",
        "\n",
        "def word_count(text, id):\n",
        "  ''' Count the frequency of each word in `text` (tf) that is not included in\n",
        "  `all_stopwords` and return entries that will go into our posting lists.\n",
        "  Parameters:\n",
        "  -----------\n",
        "    text: str\n",
        "      Text of one document\n",
        "    id: int\n",
        "      Document id\n",
        "  Returns:\n",
        "  --------\n",
        "    List of tuples\n",
        "      A list of (token, (doc_id, tf)) pairs\n",
        "      for example: [(\"Anarchism\", (12, 5)), ...]\n",
        "  '''\n",
        "  tokens = [token.group() for token in RE_WORD.finditer(text.lower())]\n",
        "  len_of_doc = len(tokens)\n",
        "  # YOUR CODE HERE\n",
        "  word_counts = Counter(tokens)\n",
        "    # Filter out stopwords and create tuples of (token, (doc_id, tf))\n",
        "  result = [(token, (id, tf)) for token, tf in word_counts.items() if token not in all_stopwords and token in query_tokens]#remove and token in query_tokens\n",
        "  return result\n",
        "\n",
        "def doc_len(text, id):\n",
        "  tokens = [token.group() for token in RE_WORD.finditer(text.lower())]\n",
        "  tokens_without_stop_w = [token for token in tokens if token not in all_stop_words)]\n",
        "  sum_doc_len += len(tokens)\n",
        "  return id,len(tokens)\n",
        "\n",
        "def reduce_word_counts(unsorted_pl):\n",
        "  ''' Returns a sorted posting list by wiki_id.\n",
        "  Parameters:\n",
        "  -----------\n",
        "    unsorted_pl: list of tuples\n",
        "      A list of (wiki_id, tf) tuples\n",
        "  Returns:\n",
        "  --------\n",
        "    list of tuples\n",
        "      A sorted posting list.\n",
        "  '''\n",
        "  # YOUR CODE HERE\n",
        "  # Sort the posting list by wiki_id\n",
        "  sorted_pl = sorted(unsorted_pl, key=lambda x: x[0])\n",
        "  return sorted_pl\n",
        "\n",
        "def calculate_df(postings):\n",
        "  ''' Takes a posting list RDD and calculate the df for each token.\n",
        "  Parameters:\n",
        "  -----------\n",
        "    postings: RDD\n",
        "      An RDD where each element is a (token, posting_list) pair.\n",
        "  Returns:\n",
        "  --------\n",
        "    RDD\n",
        "      An RDD where each element is a (token, df) pair.\n",
        "  '''\n",
        "  # YOUR CODE HERE\n",
        "  # Calculate the length of each posting list for each token\n",
        "  token_document_counts = postings.map(lambda x: (x[0], len(x[1])))\n",
        "\n",
        "  return token_document_counts\n",
        "\n",
        "def partition_postings_and_write(postings):\n",
        "  ''' A function that partitions the posting lists into buckets, writes out\n",
        "  all posting lists in a bucket to disk, and returns the posting locations for\n",
        "  each bucket. Partitioning should be done through the use of `token2bucket`\n",
        "  above. Writing to disk should use the function  `write_a_posting_list`, a\n",
        "  static method implemented in inverted_index_colab.py under the InvertedIndex\n",
        "  class.\n",
        "  Parameters:\n",
        "  -----------\n",
        "    postings: RDD\n",
        "      An RDD where each item is a (w, posting_list) pair.\n",
        "  Returns:\n",
        "  --------\n",
        "    RDD\n",
        "      An RDD where each item is a posting locations dictionary for a bucket. The\n",
        "      posting locations maintain a list for each word of file locations and\n",
        "      offsets its posting list was written to. See `write_a_posting_list` for\n",
        "      more details.\n",
        "  '''\n",
        "  # YOUR CODE HERE\n",
        "  def write_partition_to_disk(partition):\n",
        "        ''' Writes a partition of posting lists to disk and returns the posting\n",
        "        locations for each word in the partition.\n",
        "        Parameters:\n",
        "        -----------\n",
        "            partition: iterator\n",
        "                An iterator of (bucket_id, posting_lists) tuples.\n",
        "        Returns:\n",
        "        --------\n",
        "            tuple\n",
        "                A tuple containing the bucket ID and the posting locations dictionary\n",
        "                for the partition.\n",
        "        '''\n",
        "        bucket_id, posting_lists = partition\n",
        "        bucket_id , posting_locs = InvertedIndex.write_a_posting_list((bucket_id, posting_lists),base_dir,bucket_name)\n",
        "        return posting_locs\n",
        "  # Partition the posting lists into buckets\n",
        "  bucketed_postings = postings.map(lambda x: (token2bucket_id(x[0]), [x])) \\\n",
        "                               .reduceByKey(lambda a, b: a + b)\n",
        "\n",
        "    # Write out each bucket to disk and collect the posting locations\n",
        "  posting_locations = bucketed_postings.map(write_partition_to_disk)\n",
        "\n",
        "  return posting_locations\n",
        "\n",
        "\n",
        "\n",
        "############################################# page rank\n",
        "def generate_graph(pages):\n",
        "  ''' Compute the directed graph generated by wiki links.\n",
        "  Parameters:\n",
        "  -----------\n",
        "    pages: RDD\n",
        "      An RDD where each row consists of one wikipedia articles with 'id' and\n",
        "      'anchor_text'.\n",
        "  Returns:\n",
        "  --------\n",
        "    edges: RDD\n",
        "      An RDD where each row represents an edge in the directed graph created by\n",
        "      the wikipedia links. The first entry should the source page id and the\n",
        "      second entry is the destination page id. No duplicates should be present.\n",
        "    vertices: RDD\n",
        "      An RDD where each row represents a vetrix (node) in the directed graph\n",
        "      created by the wikipedia links. No duplicates should be present.\n",
        "  '''\n",
        "  # YOUR CODE HERE\n",
        "\n",
        "  # Extract edges from the 'id' and 'anchor_text' fields of the RDD\n",
        "  edges = pages.flatMap(lambda row: [(row.id, anchor.id) for anchor in row.anchor_text])\n",
        "\n",
        "  # Remove duplicates from edges\n",
        "  edges = edges.distinct()\n",
        "\n",
        "  vertices = edges.flatMap(lambda edge: ([(edge[0],edge[0]),(edge[1],edge[1])])).distinct()\n",
        "\n",
        "\n",
        "  return edges, vertices\n"
      ]
    },
    {
      "cell_type": "code",
      "execution_count": null,
      "id": "55c8764e",
      "metadata": {
        "id": "55c8764e",
        "nbgrader": {
          "grade": false,
          "grade_id": "cell-index_construction",
          "locked": false,
          "schema_version": 3,
          "solution": true,
          "task": false
        },
        "outputId": "daa7d84b-6e0a-40f6-8d72-e1ef8578ba7c"
      },
      "outputs": [
        {
          "name": "stderr",
          "output_type": "stream",
          "text": [
            "                                                                                \r"
          ]
        }
      ],
      "source": [
        "# time the index creation time\n",
        "t_start = time()\n",
        "\n",
        "#create dict for len of docs\n",
        "dict_len_docs_rdd = doc_text_pairs.map(lambda x: doc_len(x[0], x[1]))\n",
        "\n",
        "# Collect the RDD as a dictionary\n",
        "dict_len_docs = dict_len_docs_rdd.collectAsMap()\n",
        "# word counts map\n",
        "word_counts = doc_text_pairs.flatMap(lambda x: word_count(x[0], x[1]))\n",
        "postings = word_counts.groupByKey().mapValues(reduce_word_counts)\n",
        "# filtering postings and calculate df\n",
        "postings_filtered = postings.filter(lambda x: len(x[1])>15)\n",
        "w2df = calculate_df(postings_filtered)\n",
        "\n",
        "w2df_dict = w2df.collectAsMap()\n",
        "\n",
        "dict_doc_title = doc_title_pairs.collectAsMap()\n",
        "\n",
        "# partition posting lists and write out\n",
        "posting_locs_list = partition_postings_and_write(postings_filtered).collect()\n",
        "\n",
        "\n",
        "# collect all posting lists locations into one super-set\n",
        "super_posting_locs = defaultdict(list)\n",
        "for blob in client.list_blobs(bucket_name, prefix='index_text_on_jason'):\n",
        "  if not blob.name.endswith(\"pickle\"):\n",
        "    continue\n",
        "  with blob.open(\"rb\") as f:\n",
        "    posting_locs = pickle.load(f)\n",
        "    for k, v in posting_locs.items():\n",
        "      super_posting_locs[k].extend(v)\n",
        "\n",
        "\n",
        "# pages_links = spark.read.parquet(path).limit(1000).select(\"id\", \"anchor_text\").rdd\n",
        "# edges, vertices = generate_graph(pages_links)\n",
        "# edgesDF = edges.toDF(['src', 'dst']).repartition(4, 'src')\n",
        "# verticesDF = vertices.toDF(['id']).repartition(4, 'id')\n",
        "# g = GraphFrame(verticesDF, edgesDF)\n",
        "# pr_results = g.pageRank(resetProbability=0.15, maxIter=10)\n",
        "# pr = pr_results.vertices.select(\"id\", \"pagerank\")\n",
        "# pr = pr.sort(col('pagerank').desc())\n",
        "# pr.repartition(1).write.csv('pr', compression=\"gzip\")\n",
        "# pr.show()\n",
        "\n",
        "# Create inverted index instance\n",
        "inverted = InvertedIndex()\n",
        "# Adding the posting locations dictionary to the inverted index\n",
        "inverted.posting_locs = super_posting_locs\n",
        "# Add the token - df dictionary to the inverted index\n",
        "inverted.df = w2df_dict\n",
        "inverted.document_len = dict_len_docs\n",
        "inverted.doc_title_dict = dict_doc_title\n",
        "inverted.avg_doc_len = sum_doc_len/len(inverted.document_len)\n",
        "# write the global stats out\n",
        "inverted.write_index(base_dir, 'inverted_index_small',bucket_name)\n",
        "# # upload to gs\n",
        "# index_src = \"index.pkl\"\n",
        "# index_dst = f'gs://{bucket_name}/postings_gcp/{index_src}'\n",
        "# !gsutil cp $index_src $index_dst\n",
        "\n",
        "index_const_time = time() - t_start"
      ]
    },
    {
      "cell_type": "code",
      "execution_count": null,
      "id": "3dbc0e14",
      "metadata": {
        "id": "3dbc0e14",
        "nbgrader": {
          "grade": true,
          "grade_id": "cell-index_const_time",
          "locked": true,
          "points": 10,
          "schema_version": 3,
          "solution": false,
          "task": false
        },
        "outputId": "0d1fb711-f1b2-48bf-af8b-4352ec676b98"
      },
      "outputs": [
        {
          "name": "stdout",
          "output_type": "stream",
          "text": [
            "959.547914981842\n"
          ]
        }
      ],
      "source": [
        "# test index construction time\n",
        "print(index_const_time)\n",
        "assert index_const_time < 60*120"
      ]
    },
    {
      "cell_type": "markdown",
      "id": "FHvF094ZyxtU",
      "metadata": {
        "id": "FHvF094ZyxtU"
      },
      "source": [
        "upload the index from the bucket\n"
      ]
    },
    {
      "cell_type": "code",
      "execution_count": null,
      "id": "4RRajuMstHNN",
      "metadata": {
        "id": "4RRajuMstHNN"
      },
      "outputs": [],
      "source": [
        "# load_from_bucket\n",
        "# get textIndex.pkl from bucket\n",
        "from google.cloud import storage\n",
        "import pickle\n",
        "bucket_name = 'bucket-mr-project-ir-david'\n",
        "file_path = \"index_text_on_jason/inverted_index_small.pkl\"\n",
        "storage_client = storage.Client()\n",
        "bucket = storage_client.bucket(bucket_name)\n",
        "blob = bucket.blob(file_path)\n",
        "contents = blob.download_as_bytes()\n",
        "inverted = pickle.loads(contents)"
      ]
    },
    {
      "cell_type": "markdown",
      "id": "CRJuEGeYy5bw",
      "metadata": {
        "id": "CRJuEGeYy5bw"
      },
      "source": [
        "search and vectors"
      ]
    },
    {
      "cell_type": "code",
      "execution_count": null,
      "id": "33be3529",
      "metadata": {
        "id": "33be3529"
      },
      "outputs": [],
      "source": [
        "import numpy as np\n",
        "import nltk\n",
        "from nltk.corpus import stopwords\n",
        "from nltk.tokenize import word_tokenize\n",
        "from nltk.stem import PorterStemmer\n",
        "import string\n",
        "\n",
        "def preprocess_query(query):\n",
        "    # Download NLTK resources if not already downloaded //make sure documents are preprocess in the same way\n",
        "    nltk.download('punkt')\n",
        "    nltk.download('stopwords')\n",
        "    english_stopwords = frozenset(stopwords.words('english'))\n",
        "    corpus_stopwords = [\"category\", \"references\", \"also\", \"external\", \"links\",\n",
        "                    \"may\", \"first\", \"see\", \"history\", \"people\", \"one\", \"two\",\n",
        "                    \"part\", \"thumb\", \"including\", \"second\", \"following\",\n",
        "                    \"many\", \"however\", \"would\", \"became\"]\n",
        "\n",
        "    all_stopwords = english_stopwords.union(corpus_stopwords)\n",
        "    # Initialize Porter Stemmer\n",
        "    #stemmer = PorterStemmer()\n",
        "\n",
        "    # Tokenize the query\n",
        "    tokens = word_tokenize(query)\n",
        "\n",
        "    # Remove punctuation\n",
        "    tokens = [token for token in tokens if token not in string.punctuation]\n",
        "\n",
        "    # Remove stop words\n",
        "    stop_words = set(stopwords.words('english'))\n",
        "    filtered_tokens = [token for token in tokens if token.lower() not in all_stopwords]\n",
        "\n",
        "    # Stemming\n",
        "    #stemmed_tokens = [stemmer.stem(token) for token in filtered_tokens]\n",
        "\n",
        "    # Perform additional preprocessing if needed\n",
        "\n",
        "    return filtered_tokens\n",
        "\n",
        "# def vectorize_query(query, inverted_index):\n",
        "#     # Preprocess the query\n",
        "#     preprocessed_query = preprocess_query(query)\n",
        "\n",
        "\n",
        "#     # Initialize a vector for the query\n",
        "#     query_vector = np.zeros(len(inverted_index.posting_locs))# to do:create vector in size of the query\n",
        "\n",
        "#     # Calculate TF-IDF for the query terms\n",
        "#     for term in preprocessed_query:\n",
        "\n",
        "#         if term in inverted_index.posting_locs:\n",
        "#             # Calculate TF (term frequency) for the query term\n",
        "\n",
        "#             index = inverted.dictIndexTerm[term]\n",
        "#             tf = preprocessed_query.count(term)/len(preprocessed_query)\n",
        "\n",
        "#             # Calculate TF-IDF score for the query term\n",
        "#             tf_idf = tf * 1\n",
        "\n",
        "#             # Assign TF-IDF score to the corresponding dimension in the query vector\n",
        "#             query_vector[index] = tf_idf\n",
        "\n",
        "#     return query_vector\n",
        "def vectorize_query(query, inverted_index):\n",
        "    # Preprocess the query\n",
        "    preprocessed_query = preprocess_query(query)\n",
        "\n",
        "    dict_tokens_unq = Counter(preprocessed_query)\n",
        "    # Initialize a vector for the query\n",
        "    query_vector = np.zeros(len(dict_tokens_unq))# to do:create vector in size of the query\n",
        "    counter = 0\n",
        "    # Calculate TF-IDF for the query terms\n",
        "    for term, freq in dict_tokens_unq.items():\n",
        "\n",
        "        if inverted_index.posting_locs.get(term) is not None:\n",
        "            # Calculate TF (term frequency) for the query term\n",
        "\n",
        "            tf = freq/len(preprocessed_query)\n",
        "\n",
        "            # Calculate TF-IDF score for the query term\n",
        "            tf_idf = tf * 1\n",
        "\n",
        "            # Assign TF-IDF score to the corresponding dimension in the query vector\n",
        "            query_vector[counter] = tf_idf\n",
        "            counter += 1\n",
        "    return query_vector\n",
        "\n",
        "\n",
        "def vectorize_documents(inverted_index,query_tokens_unq):\n",
        "    # Initialize a dictionary to store document vectors\n",
        "    document_vectors = {}\n",
        "\n",
        "\n",
        "\n",
        "    counter = 0\n",
        "    # Calculate TF-IDF for each document\n",
        "    for term in query_tokens_unq:\n",
        "        #if term not in inverted.df.keys()\n",
        "        if inverted_index.df.get(term) is None:\n",
        "          counter += 1\n",
        "          continue\n",
        "        # posting_list = inverted.read_a_posting_list(base_dir, term, bucket_name)\n",
        "        posting_list = inverted.read_a_posting_list(\"index_text_on_jason\",term, bucket_name)\n",
        "        num_of_docs = len(inverted_index.document_len.items())\n",
        "        print(str(num_of_docs)+\"num_of_docs\")\n",
        "        df_of_term = inverted_index.df[term]\n",
        "        idf = np.log(num_of_docs/df_of_term)  # Adding 1 to avoid division by zero\n",
        "        print(idf)\n",
        "        for doc_id, tf in posting_list:\n",
        "            tf = tf / (inverted.document_len[doc_id])#remove 0.1\n",
        "            # Calculate TF-IDF score for the term in the document\n",
        "            tf_idf = tf * idf\n",
        "\n",
        "            # If the document vector already exists, update it\n",
        "            if doc_id in document_vectors:\n",
        "                document_vectors[doc_id][counter] = tf_idf\n",
        "            # Otherwise, create a new document vector\n",
        "            else:\n",
        "                document_vector = np.zeros(len(query_tokens_unq))\n",
        "                document_vectors[doc_id] = document_vector\n",
        "                document_vectors[doc_id][counter] = tf_idf\n",
        "        counter += 1\n",
        "    return document_vectors\n",
        "def cosine_similarity(v1, v2):\n",
        "    \"\"\"Compute cosine similarity between two vectors.\"\"\"\n",
        "    dot_product = np.dot(v1, v2)\n",
        "    norm_v1 = np.linalg.norm(v1)\n",
        "    norm_v2 = np.linalg.norm(v2)\n",
        "    return dot_product / (norm_v1 * norm_v2)\n",
        "def MB25_similarity(inverted, dict_query_term_tf,number_to_return,k1,k2, b)\n",
        "    #return top results sorted.\n",
        "    query_tokens_unq = list(dict_query_term_tf.keys())\n",
        "    B = 1-b +b*\n",
        "    similarities = {}\n",
        "    for term in query_tokens_unq:\n",
        "        #if term not in inverted.df.keys()\n",
        "        if inverted_index.df.get(term) is None:\n",
        "          counter += 1\n",
        "          continue\n",
        "        posting_list = inverted.read_a_posting_list(\"index_text_on_jason\",term, bucket_name)\n",
        "        num_of_docs = len(inverted_index.document_len.items())\n",
        "        df_of_term = inverted_index.df[term]\n",
        "        idf = np.log(num_of_docs+1/df_of_term)  # Adding 1 to avoid division by zero\n",
        "        print(idf)\n",
        "        for doc_id, tf in posting_list:\n",
        "            B = 1-b + b*inverted.document_len[doc_id]/inverted.avg_doc_len\n",
        "            query_tf =dict_query_term_tf[term]\n",
        "            bm25_value_iteration = ((k1+1)*tf)/(B*k1+tf)*idf*((k2+1)*query_tf)/(k2+query_tf)\n",
        "            # If the document vector already exists, update it\n",
        "            similarities[doc_id] += bm25_value_iteration\n",
        "      top_results = sorted(similarities.items(), key=lambda x: x[1], reverse=True)[:number_to_return]\n",
        "\n",
        "def search(query, inverted_index, k=10, use_cosine):\n",
        "    \"\"\"Search for documents based on a query using cosine similarity.\"\"\"\n",
        "    # Preprocess query (e.g., tokenize, remove stop words, etc.)\n",
        "    # Vectorize the query\n",
        "\n",
        "    query_vector = vectorize_query(query,inverted)\n",
        "    processed_query = preprocess_query(query)\n",
        "    list_tokens_unq = list(Counter(processed_query).keys())\n",
        "    if use_cosine = true:\n",
        "      vectorize_documents_res = vectorize_documents(inverted,list_tokens_unq)\n",
        "      # Compute cosine similarity between the query vector and all document vectors\n",
        "      similarities = {}\n",
        "      for doc_id, doc_vector in vectorize_documents_res.items():\n",
        "          similarities[doc_id] = cosine_similarity(query_vector, doc_vector)\n",
        "\n",
        "      # Sort documents by similarity and return the top k results\n",
        "      top_results = sorted(similarities.items(), key=lambda x: x[1], reverse=True)[:k]\n",
        "    #use MB25\n",
        "    else\n",
        "      top results = MB25_similarity(inverted,Counter(processed_query),k,k1=2,k2=2,b=0.5)\n",
        "\n",
        "\n",
        "    # Retrieve titles for the top results\n",
        "    results_with_titles = [(doc_id, inverted_index.dict_doc_title.get(doc_id)) for doc_id, _ in top_results]\n",
        "    #results_with_titles = [(doc_id, doc_titles[doc_id]) for doc_id, _ in top_results]\n",
        "    return results_with_titles\n",
        "\n"
      ]
    },
    {
      "cell_type": "markdown",
      "id": "T06zFQzfy_2l",
      "metadata": {
        "id": "T06zFQzfy_2l"
      },
      "source": [
        "test"
      ]
    },
    {
      "cell_type": "code",
      "execution_count": null,
      "id": "06c0b3dc",
      "metadata": {
        "id": "06c0b3dc",
        "outputId": "8396065e-4e1f-45c5-d270-e6668cd428f5"
      },
      "outputs": [],
      "source": [
        "#test\n",
        "# first_10_items = list(inverted.document_len.items())[:10]\n",
        "\n",
        "# # Print the first 10 items\n",
        "# print(first_10_items)\n",
        "\n",
        "query = \"genetics\"\n",
        "proces_query = preprocess_query(query)\n",
        "print(proces_query)\n",
        "query_vector = vectorize_query(query,inverted)\n",
        "print(query_vector)\n",
        "print(search(query,inverted))\n"
      ]
    },
    {
      "cell_type": "code",
      "execution_count": null,
      "id": "8f880d59",
      "metadata": {
        "id": "8f880d59",
        "nbgrader": {
          "grade": false,
          "grade_id": "cell-index_dst_size",
          "locked": true,
          "schema_version": 3,
          "solution": false,
          "task": false
        },
        "outputId": "6776b4a3-27ec-421b-9a29-a1794c7da7b5"
      },
      "outputs": [
        {
          "name": "stdout",
          "output_type": "stream",
          "text": [
            " 18.45 MiB  2024-02-19T21:17:21Z  gs://bucket-mr-project-ir-david/postings_gcp/index.pkl\r\n",
            "TOTAL: 1 objects, 19341442 bytes (18.45 MiB)\r\n"
          ]
        }
      ],
      "source": [
        "# !gsutil ls -lh $index_dst"
      ]
    }
  ],
  "metadata": {
    "celltoolbar": "Create Assignment",
    "colab": {
      "provenance": []
    },
    "kernelspec": {
      "display_name": "PySpark",
      "language": "python",
      "name": "pyspark"
    },
    "language_info": {
      "codemirror_mode": {
        "name": "ipython",
        "version": 3
      },
      "file_extension": ".py",
      "mimetype": "text/x-python",
      "name": "python",
      "nbconvert_exporter": "python",
      "pygments_lexer": "ipython3",
      "version": "3.10.8"
    }
  },
  "nbformat": 4,
  "nbformat_minor": 5
}
